{
 "cells": [
  {
   "cell_type": "code",
   "execution_count": 1,
   "id": "59078551",
   "metadata": {
    "scrolled": true
   },
   "outputs": [
    {
     "name": "stdout",
     "output_type": "stream",
     "text": [
      "Training Set Mean Absolute Error: 29967.87\n",
      "Test Set Mean Absolute Error: 160900.82\n"
     ]
    }
   ],
   "source": [
    "import pandas as pd\n",
    "from sklearn.model_selection import train_test_split\n",
    "from sklearn import ensemble\n",
    "from sklearn.metrics import mean_absolute_error\n",
    "import joblib\n",
    "\n",
    "# Read in data from CSV\n",
    "df = pd.read_csv('~/Downloads/archive/Melbourne_housing_FULL.csv')\n",
    "# Delete unneeded columns\n",
    "del df['Address']\n",
    "del df['Method']\n",
    "del df['SellerG']\n",
    "del df['Date']\n",
    "del df['Postcode']\n",
    "del df['Latitude']\n",
    "del df['Longitude']\n",
    "del df['Regionname']\n",
    "del df['Propertycount']\n",
    "# Remove rows with missing values\n",
    "df = df.dropna(axis=0)\n",
    "\n",
    "# Convert categorical data to numbers\n",
    "features_df = pd.get_dummies(df, columns=['Suburb', 'CouncilArea', 'Type'])\n",
    "\n",
    "# remove the price column\n",
    "del features_df['Price']\n",
    "\n",
    "# Create X and y arrays\n",
    "X = features_df.to_numpy()\n",
    "y = df['Price'].to_numpy()\n",
    "\n",
    "# Split data into training and test sets, random_state is the seed used by the random number generator\n",
    "X_train, X_test, y_train, y_test = train_test_split(X, y, test_size=0.3, random_state=0)\n"
   ]
  },
  {
   "cell_type": "code",
   "execution_count": null,
   "id": "87bbbb60",
   "metadata": {},
   "outputs": [],
   "source": []
  },
  {
   "cell_type": "code",
   "execution_count": null,
   "id": "41d4dfa0",
   "metadata": {},
   "outputs": [],
   "source": []
  }
 ],
 "metadata": {
  "kernelspec": {
   "display_name": "Python 3 (ipykernel)",
   "language": "python",
   "name": "python3"
  },
  "language_info": {
   "codemirror_mode": {
    "name": "ipython",
    "version": 3
   },
   "file_extension": ".py",
   "mimetype": "text/x-python",
   "name": "python",
   "nbconvert_exporter": "python",
   "pygments_lexer": "ipython3",
   "version": "3.11.2"
  }
 },
 "nbformat": 4,
 "nbformat_minor": 5
}

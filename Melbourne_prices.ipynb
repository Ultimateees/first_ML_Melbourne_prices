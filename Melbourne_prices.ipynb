{
 "cells": [
  {
   "cell_type": "code",
   "execution_count": 1,
   "id": "59078551",
   "metadata": {
    "scrolled": true
   },
   "outputs": [
    {
     "name": "stdout",
     "output_type": "stream",
     "text": [
      "Training Set Mean Absolute Error: 29967.87\n",
      "Test Set Mean Absolute Error: 160900.82\n"
     ]
    }
   ],
   "source": [
    "import pandas as pd\n",
    "from sklearn.model_selection import train_test_split\n",
    "from sklearn import ensemble\n",
    "from sklearn.metrics import mean_absolute_error\n",
    "import joblib\n",
    "\n",
    "# Read in data from CSV\n",
    "df = pd.read_csv('~/Downloads/archive/Melbourne_housing_FULL.csv')\n",
    "\n",
    "# Delete unneeded columns\n",
    "del df['Address']\n",
    "del df['Method']\n",
    "del df['SellerG']\n",
    "del df['Date']\n",
    "del df['Postcode']\n",
    "del df['Latitude']\n",
    "del df['Longitude']\n",
    "del df['Regionname']\n",
    "del df['Propertycount']\n",
    "\n",
    "# Remove rows with missing values\n",
    "df = df.dropna(axis=0)\n",
    "\n",
    "# Convert categorical data to numbers\n",
    "features_df = pd.get_dummies(df, columns=['Suburb', 'CouncilArea', 'Type'])\n",
    "\n",
    "# remove the price column\n",
    "del features_df['Price']\n",
    "\n",
    "# Create X and y arrays\n",
    "X = features_df.to_numpy()\n",
    "y = df['Price'].to_numpy()\n",
    "\n",
    "# Split data into training and test sets, random_state seed, 70% training, 30% test\n",
    "X_train, X_test, y_train, y_test = train_test_split(X, y, test_size=0.3, random_state=0)\n",
    "\n",
    "# Create gradient boosting model with 150 trees, learning rate of 0.1, max depth of 30, min samples split of 4, min samples leaf of 6, max features of 0.6, and huber loss function\n",
    "model = ensemble.GradientBoostingRegressor(\n",
    "n_estimators=150,\n",
    "learning_rate=0.1,\n",
    "max_depth=30,\n",
    "min_samples_split=4,\n",
    "min_samples_leaf=6,\n",
    "max_features=0.6,\n",
    "loss='huber'\n",
    ")\n",
    "\n",
    "# Train the model\n",
    "model.fit(X_train, y_train)\n",
    "\n",
    "# Save the trained model to a file\n",
    "joblib.dump(model, 'house_trained_model.pkl')\n",
    "\n",
    "# Evaluate the results\n",
    "mse = mean_absolute_error(y_train, model.predict(X_train))\n",
    "print (\"Training Set Mean Absolute Error: %.2f\" % mse)\n",
    "\n",
    "mse = mean_absolute_error(y_test, model.predict(X_test))\n",
    "print (\"Test Set Mean Absolute Error: %.2f\" % mse)"
   ]
  },
  {
   "cell_type": "code",
   "execution_count": null,
   "id": "87bbbb60",
   "metadata": {},
   "outputs": [],
   "source": []
  },
  {
   "cell_type": "code",
   "execution_count": null,
   "id": "41d4dfa0",
   "metadata": {},
   "outputs": [],
   "source": []
  }
 ],
 "metadata": {
  "kernelspec": {
   "display_name": "Python 3 (ipykernel)",
   "language": "python",
   "name": "python3"
  },
  "language_info": {
   "codemirror_mode": {
    "name": "ipython",
    "version": 3
   },
   "file_extension": ".py",
   "mimetype": "text/x-python",
   "name": "python",
   "nbconvert_exporter": "python",
   "pygments_lexer": "ipython3",
   "version": "3.11.2"
  }
 },
 "nbformat": 4,
 "nbformat_minor": 5
}
